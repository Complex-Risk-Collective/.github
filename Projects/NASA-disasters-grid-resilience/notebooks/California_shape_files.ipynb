{
 "cells": [
  {
   "cell_type": "code",
   "execution_count": null,
   "id": "02b4727b",
   "metadata": {},
   "outputs": [],
   "source": [
    "import folium\n",
    "import pandas as pd\n",
    "import numpy as np\n",
    "import geopandas as gpd\n",
    "import os\n",
    "import random\n",
    "\n",
    "\n",
    "\n",
    "import matplotlib.pyplot as plt\n",
    "from matplotlib.patches import Patch\n",
    "import matplotlib.gridspec as gridspec\n",
    "\n",
    "\n"
   ]
  },
  {
   "cell_type": "code",
   "execution_count": null,
   "id": "18cba3ad",
   "metadata": {},
   "outputs": [],
   "source": []
  },
  {
   "cell_type": "code",
   "execution_count": 2,
   "id": "1ac8651c",
   "metadata": {},
   "outputs": [],
   "source": [
    "# Load California shape file\n",
    "ca_boundaries_file = '../data/CA_location_data/CA_State.shp'\n",
    "ca_boundaries = gpd.read_file(ca_boundaries_file)\n",
    "    \n",
    "    \n",
    "ca_boundaries = ca_boundaries.to_crs('EPSG:4326')"
   ]
  },
  {
   "cell_type": "code",
   "execution_count": null,
   "id": "38caf6b5",
   "metadata": {},
   "outputs": [],
   "source": [
    "# Load NERC regions\n",
    "regions_gdf = gpd.read_file(\"../data/NERC_Reliability_Coordinators.geojson\")\n",
    "# Ensure the CRS is WGS84 (EPSG:4326)\n",
    "if regions_gdf.crs is None or regions_gdf.crs.to_string() != \"EPSG:4326\":\n",
    "    print('converting to EPSG: 4326')\n",
    "    regions_gdf = regions_gdf.to_crs(\"EPSG:4326\")\n",
    "\n",
    "\n"
   ]
  },
  {
   "cell_type": "code",
   "execution_count": null,
   "id": "d5a90c8d",
   "metadata": {},
   "outputs": [],
   "source": [
    "# Plot the NERC RC regions colored by region name or code\n",
    "fig, ax = plt.subplots(1, 1, figsize=(22, 16))\n",
    "\n",
    "regions_gdf.plot(column='NAME', categorical=True, legend=True, \n",
    "        edgecolor='black', linewidth=0.5, ax=ax, alpha=0.5)"
   ]
  },
  {
   "cell_type": "code",
   "execution_count": 12,
   "id": "fadc5c24",
   "metadata": {},
   "outputs": [
    {
     "data": {
      "text/html": [
       "<div>\n",
       "<style scoped>\n",
       "    .dataframe tbody tr th:only-of-type {\n",
       "        vertical-align: middle;\n",
       "    }\n",
       "\n",
       "    .dataframe tbody tr th {\n",
       "        vertical-align: top;\n",
       "    }\n",
       "\n",
       "    .dataframe thead th {\n",
       "        text-align: right;\n",
       "    }\n",
       "</style>\n",
       "<table border=\"1\" class=\"dataframe\">\n",
       "  <thead>\n",
       "    <tr style=\"text-align: right;\">\n",
       "      <th></th>\n",
       "      <th>OBJECTID</th>\n",
       "      <th>ID</th>\n",
       "      <th>NAME</th>\n",
       "      <th>ADDRESS</th>\n",
       "      <th>CITY</th>\n",
       "      <th>STATE</th>\n",
       "      <th>ZIP</th>\n",
       "      <th>TELEPHONE</th>\n",
       "      <th>COUNTRY</th>\n",
       "      <th>SOURCE</th>\n",
       "      <th>SOURCEDATE</th>\n",
       "      <th>VAL_METHOD</th>\n",
       "      <th>VAL_DATE</th>\n",
       "      <th>WEBSITE</th>\n",
       "      <th>ABBRV</th>\n",
       "      <th>SHAPE_Length</th>\n",
       "      <th>SHAPE_Area</th>\n",
       "      <th>geometry</th>\n",
       "    </tr>\n",
       "  </thead>\n",
       "  <tbody>\n",
       "    <tr>\n",
       "      <th>0</th>\n",
       "      <td>1</td>\n",
       "      <td>2775</td>\n",
       "      <td>CALIFORNIA INDEPENDENT SYSTEM OPERATOR</td>\n",
       "      <td>250 OUTCROPPING WAY</td>\n",
       "      <td>FOLSOM</td>\n",
       "      <td>CA</td>\n",
       "      <td>95630</td>\n",
       "      <td>(916) 351-4400</td>\n",
       "      <td>USA</td>\n",
       "      <td>EIA 861, https://www.nerc.com/pa/rrm/TLR/Pages...</td>\n",
       "      <td>2019-12-03 00:00:00+00:00</td>\n",
       "      <td>OTHER</td>\n",
       "      <td>2022-06-03 00:00:00+00:00</td>\n",
       "      <td>http://www.caiso.com/</td>\n",
       "      <td>RCW</td>\n",
       "      <td>223.350632</td>\n",
       "      <td>225.375431</td>\n",
       "      <td>MULTIPOLYGON (((-117.21222 32.77345, -117.2125...</td>\n",
       "    </tr>\n",
       "  </tbody>\n",
       "</table>\n",
       "</div>"
      ],
      "text/plain": [
       "   OBJECTID    ID                                    NAME  \\\n",
       "0         1  2775  CALIFORNIA INDEPENDENT SYSTEM OPERATOR   \n",
       "\n",
       "               ADDRESS    CITY STATE    ZIP       TELEPHONE COUNTRY  \\\n",
       "0  250 OUTCROPPING WAY  FOLSOM    CA  95630  (916) 351-4400     USA   \n",
       "\n",
       "                                              SOURCE  \\\n",
       "0  EIA 861, https://www.nerc.com/pa/rrm/TLR/Pages...   \n",
       "\n",
       "                 SOURCEDATE VAL_METHOD                  VAL_DATE  \\\n",
       "0 2019-12-03 00:00:00+00:00      OTHER 2022-06-03 00:00:00+00:00   \n",
       "\n",
       "                 WEBSITE ABBRV  SHAPE_Length  SHAPE_Area  \\\n",
       "0  http://www.caiso.com/   RCW    223.350632  225.375431   \n",
       "\n",
       "                                            geometry  \n",
       "0  MULTIPOLYGON (((-117.21222 32.77345, -117.2125...  "
      ]
     },
     "execution_count": 12,
     "metadata": {},
     "output_type": "execute_result"
    }
   ],
   "source": [
    "CAISO = regions_gdf[regions_gdf['NAME']=='CALIFORNIA INDEPENDENT SYSTEM OPERATOR']\n",
    "\n",
    "CAISO"
   ]
  },
  {
   "cell_type": "code",
   "execution_count": null,
   "id": "b3881ccb",
   "metadata": {},
   "outputs": [],
   "source": []
  },
  {
   "cell_type": "code",
   "execution_count": null,
   "id": "d4fdb298",
   "metadata": {},
   "outputs": [],
   "source": []
  }
 ],
 "metadata": {
  "kernelspec": {
   "display_name": "spwxr_network_new",
   "language": "python",
   "name": "python3"
  },
  "language_info": {
   "codemirror_mode": {
    "name": "ipython",
    "version": 3
   },
   "file_extension": ".py",
   "mimetype": "text/x-python",
   "name": "python",
   "nbconvert_exporter": "python",
   "pygments_lexer": "ipython3",
   "version": "3.9.23"
  }
 },
 "nbformat": 4,
 "nbformat_minor": 5
}
